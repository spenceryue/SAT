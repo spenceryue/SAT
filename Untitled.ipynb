{
 "cells": [
  {
   "cell_type": "code",
   "execution_count": 1,
   "metadata": {
    "ExecuteTime": {
     "end_time": "2018-03-09T23:53:08.290951Z",
     "start_time": "2018-03-09T23:53:07.353810Z"
    },
    "collapsed": true
   },
   "outputs": [],
   "source": [
    "import numpy as np"
   ]
  },
  {
   "cell_type": "code",
   "execution_count": 16,
   "metadata": {
    "ExecuteTime": {
     "end_time": "2018-03-10T00:00:09.295844Z",
     "start_time": "2018-03-10T00:00:09.287824Z"
    }
   },
   "outputs": [
    {
     "data": {
      "text/plain": [
       "32"
      ]
     },
     "execution_count": 16,
     "metadata": {},
     "output_type": "execute_result"
    }
   ],
   "source": [
    "ord ('a') - ord ('A')"
   ]
  },
  {
   "cell_type": "code",
   "execution_count": 42,
   "metadata": {
    "ExecuteTime": {
     "end_time": "2018-03-10T02:30:08.297256Z",
     "start_time": "2018-03-10T02:30:08.277253Z"
    }
   },
   "outputs": [],
   "source": [
    "with open ('demo.txt', 'r') as f:\n",
    "    clause = []\n",
    "    for line in f:\n",
    "        tokens = line.split (' ')\n",
    "        expr = []\n",
    "        for x in tokens:\n",
    "            c = 96 + abs (int (x))\n",
    "#             if x[0] == '-':\n",
    "#                 c -= 32\n",
    "            c = str (chr (c))\n",
    "            if x[0] == '-':\n",
    "                c = '[{}]'.format (c)\n",
    "            expr.append (c)\n",
    "        clause.append (','.join (expr))"
   ]
  },
  {
   "cell_type": "code",
   "execution_count": 45,
   "metadata": {
    "ExecuteTime": {
     "end_time": "2018-03-10T02:31:27.554403Z",
     "start_time": "2018-03-10T02:31:27.526402Z"
    }
   },
   "outputs": [
    {
     "name": "stdout",
     "output_type": "stream",
     "text": [
      "[a],[q],[s]\n",
      "[b],[c],q\n",
      "[b],[m],[h]\n",
      "[b],c,[m]\n",
      "[c],k,l\n",
      "[d],[i],[m]\n",
      "[e],[h],[o]\n",
      "[e],[q],[s]\n",
      "[e],i,t\n",
      "[e],l,o\n",
      "[e],m,[q]\n",
      "[e],s,[h]\n",
      "[e],s,[r]\n",
      "[f],[o],[b]\n",
      "[f],[q],[h]\n",
      "[f],q,e\n",
      "[g],[b],l\n",
      "[g],a,[t]\n",
      "[g],p,j\n",
      "[h],[i],d\n",
      "[h],d,g\n",
      "[h],l,[e]\n",
      "[i],[b],s\n",
      "[i],a,[e]\n",
      "[j],[k],h\n",
      "[j],[p],k\n",
      "[k],n,i\n",
      "[k],t,[q]\n",
      "[l],[i],q\n",
      "[l],[n],[m]\n",
      "[l],h,[j]\n",
      "[m],[e],[a]\n",
      "[m],e,[s]\n",
      "[m],o,j\n",
      "[o],[f],[c]\n",
      "[o],[j],d\n",
      "[p],[o],[a]\n",
      "[p],i,o\n",
      "[p],r,[d]\n",
      "[r],[b],t\n",
      "[r],c,k\n",
      "[r],n,[d]\n",
      "[r],n,a\n",
      "[s],[o],j\n",
      "[s],i,q\n",
      "[s],q,k\n",
      "[t],[r],k\n",
      "[t],g,[p]\n",
      "a,[t],s\n",
      "a,f,k\n",
      "a,p,q\n",
      "b,[j],[r]\n",
      "b,[o],[k]\n",
      "c,r,[e]\n",
      "d,[o],[c]\n",
      "d,[p],[e]\n",
      "d,[r],s\n",
      "e,[l],[o]\n",
      "f,j,g\n",
      "g,[i],q\n",
      "g,q,[o]\n",
      "i,[e],[a]\n",
      "i,[o],m\n",
      "i,[q],o\n",
      "i,f,a\n",
      "j,[m],[g]\n",
      "j,[s],[n]\n",
      "j,a,[s]\n",
      "k,[e],[n]\n",
      "l,[b],q\n",
      "l,[g],[n]\n",
      "l,[g],[q]\n",
      "l,[k],[g]\n",
      "l,[n],[g]\n",
      "l,c,[b]\n",
      "l,r,[s]\n",
      "m,[d],j\n",
      "n,[f],l\n",
      "n,g,j\n",
      "o,[i],m\n",
      "o,r,d\n",
      "p,c,[k]\n",
      "q,s,e\n",
      "r,[j],m\n",
      "s,k,n\n",
      "t,[a],n\n",
      "t,[n],[o]\n",
      "t,[o],[p]\n",
      "t,i,d\n",
      "t,l,d\n",
      "t,n,[p]\n"
     ]
    }
   ],
   "source": [
    "clause.sort (key=lambda expr: tuple (ord (x) if len (x)==1 else ord(x[1]) for x in expr))\n",
    "print (*clause, sep='\\n')"
   ]
  }
 ],
 "metadata": {
  "kernelspec": {
   "display_name": "Python 3",
   "language": "python",
   "name": "python3"
  },
  "language_info": {
   "codemirror_mode": {
    "name": "ipython",
    "version": 3
   },
   "file_extension": ".py",
   "mimetype": "text/x-python",
   "name": "python",
   "nbconvert_exporter": "python",
   "pygments_lexer": "ipython3",
   "version": "3.6.2"
  }
 },
 "nbformat": 4,
 "nbformat_minor": 2
}
