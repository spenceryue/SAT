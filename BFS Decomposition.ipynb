{
 "cells": [
  {
   "cell_type": "code",
   "execution_count": 1,
   "metadata": {
    "ExecuteTime": {
     "end_time": "2018-07-05T12:29:17.741714Z",
     "start_time": "2018-07-05T12:29:17.654906Z"
    },
    "collapsed": true
   },
   "outputs": [],
   "source": [
    "import numpy as np"
   ]
  },
  {
   "cell_type": "code",
   "execution_count": 3,
   "metadata": {
    "ExecuteTime": {
     "end_time": "2018-07-05T12:29:19.260137Z",
     "start_time": "2018-07-05T12:29:19.254136Z"
    }
   },
   "outputs": [
    {
     "data": {
      "text/plain": [
       "['4 -18 19\\n', '3 18 -5\\n', '-5 -8 -15\\n', '-20 7 -16\\n', '10 -13 -7\\n']"
      ]
     },
     "execution_count": 3,
     "metadata": {},
     "output_type": "execute_result"
    }
   ],
   "source": [
    "with open ('demo.txt', 'r') as f:\n",
    "    a = f.readlines ()\n",
    "a[:5]"
   ]
  },
  {
   "cell_type": "code",
   "execution_count": 4,
   "metadata": {
    "ExecuteTime": {
     "end_time": "2018-07-05T12:29:20.641359Z",
     "start_time": "2018-07-05T12:29:20.631384Z"
    }
   },
   "outputs": [
    {
     "name": "stdout",
     "output_type": "stream",
     "text": [
      "[[4, -18, 19], [3, 18, -5], [-5, -8, -15], [-20, 7, -16], [10, -13, -7]] 91\n"
     ]
    }
   ],
   "source": [
    "M = len (a)\n",
    "b = [[int (x) for x in row.split ()] for row in a]\n",
    "print (b[:5], M)"
   ]
  },
  {
   "cell_type": "code",
   "execution_count": 5,
   "metadata": {
    "ExecuteTime": {
     "end_time": "2018-07-05T12:29:21.522343Z",
     "start_time": "2018-07-05T12:29:21.516359Z"
    }
   },
   "outputs": [
    {
     "name": "stdout",
     "output_type": "stream",
     "text": [
      "{1, 2, 3, 4, 5, 6, 7, 8, 9, 10, 11, 12, 13, 14, 15, 16, 17, 18, 19, 20, -20, -19, -18, -17, -16, -15, -14, -13, -12, -11, -10, -9, -8, -7, -6, -5, -4, -3, -2, -1} 40\n"
     ]
    }
   ],
   "source": [
    "c = {x for row in b for x in row}\n",
    "print (c, len (c))"
   ]
  },
  {
   "cell_type": "code",
   "execution_count": 6,
   "metadata": {
    "ExecuteTime": {
     "end_time": "2018-07-05T12:29:22.307136Z",
     "start_time": "2018-07-05T12:29:22.299157Z"
    }
   },
   "outputs": [
    {
     "data": {
      "text/plain": [
       "[[3, 22, 18], [2, 17, 35], [35, 32, 25], [20, 6, 24], [9, 27, 33]]"
      ]
     },
     "execution_count": 6,
     "metadata": {},
     "output_type": "execute_result"
    }
   ],
   "source": [
    "N = len (c)\n",
    "d = [[(x + N) % N - (x > 0) for x in row] for row in b]\n",
    "d[:5]"
   ]
  },
  {
   "cell_type": "code",
   "execution_count": 72,
   "metadata": {
    "ExecuteTime": {
     "end_time": "2018-07-05T22:25:41.455521Z",
     "start_time": "2018-07-05T22:25:41.444527Z"
    }
   },
   "outputs": [],
   "source": [
    "def plot_matrix (matrix):\n",
    "    matrix = np.array ([[i,j] for i in range (N) for j in range (N) if matrix[i,j]])\n",
    "    from matplotlib import pyplot as plt\n",
    "    plt.scatter (matrix[:,1], -matrix[:,0], c='g')\n",
    "    plt.gca ().set_aspect (1)\n",
    "    plt.xlabel ('Column Index', fontsize=12)\n",
    "    plt.ylabel ('Row Index\\n(Don\\'t mind the negative)', fontsize=12)\n",
    "    plt.show ()\n",
    "    return matrix"
   ]
  },
  {
   "cell_type": "code",
   "execution_count": 73,
   "metadata": {
    "ExecuteTime": {
     "end_time": "2018-07-05T22:25:42.550466Z",
     "start_time": "2018-07-05T22:25:42.444712Z"
    }
   },
   "outputs": [
    {
     "data": {
      "image/png": "[encoded data removed]",
      "text/plain": [
       "<Figure size 432x288 with 1 Axes>"
      ]
     },
     "metadata": {},
     "output_type": "display_data"
    }
   ],
   "source": [
    "e = np.zeros ([N, N], dtype=bool)\n",
    "e[range (N), range (N-1,-1,-1)] = 1\n",
    "plot_matrix (e);"
   ]
  },
  {
   "cell_type": "code",
   "execution_count": 74,
   "metadata": {
    "ExecuteTime": {
     "end_time": "2018-07-05T22:25:49.832739Z",
     "start_time": "2018-07-05T22:25:49.827740Z"
    },
    "collapsed": true
   },
   "outputs": [],
   "source": [
    "def make_edge (triple):\n",
    "    triple = sorted (triple)\n",
    "    from itertools import combinations\n",
    "    for i,j in combinations (triple, 2):\n",
    "        e[i,j] = e[j,i] = 1"
   ]
  },
  {
   "cell_type": "code",
   "execution_count": 75,
   "metadata": {
    "ExecuteTime": {
     "end_time": "2018-07-05T22:25:50.845969Z",
     "start_time": "2018-07-05T22:25:50.734120Z"
    }
   },
   "outputs": [
    {
     "name": "stdout",
     "output_type": "stream",
     "text": [
      "177 more edges (268) than clauses (91).\n"
     ]
    },
    {
     "data": {
      "image/png": "[encoded data removed]",
      "text/plain": [
       "<Figure size 432x288 with 1 Axes>"
      ]
     },
     "metadata": {},
     "output_type": "display_data"
    }
   ],
   "source": [
    "for row in d:\n",
    "    make_edge (row)\n",
    "E = (e.sum () - N) // 2 + N\n",
    "print ('{} more edges ({}) than clauses ({}).'.format (E - M, E, M))\n",
    "f = plot_matrix (e)"
   ]
  },
  {
   "cell_type": "code",
   "execution_count": 76,
   "metadata": {
    "ExecuteTime": {
     "end_time": "2018-07-05T22:26:02.937421Z",
     "start_time": "2018-07-05T22:26:02.925423Z"
    }
   },
   "outputs": [
    {
     "name": "stdout",
     "output_type": "stream",
     "text": [
      "(0, {33, 35, 5, 39, 8, 9, 10, 13, 15, 16, 18, 20, 21, 22, 31})\n",
      "(1, {38, 22, 25, 29, 30})\n",
      "(2, {35, 37, 38, 10, 11, 15, 17, 22, 27, 29})\n",
      "(3, {32, 35, 36, 37, 6, 8, 11, 14, 17, 18, 19, 22, 24, 25, 30, 31})\n",
      "(4, {34, 35, 16, 18, 21, 25, 27, 28})\n",
      "(5, {0, 34, 6, 8, 9, 10})\n",
      "(6, {32, 33, 3, 5, 9, 13, 16, 20, 24, 25, 31})\n",
      "(7, {32, 28, 29, 30})\n",
      "(8, {0, 3, 35, 5, 39, 12, 13, 14, 16, 19, 21, 23, 24, 25, 29, 31})\n",
      "(9, {0, 33, 36, 5, 6, 12, 13, 14, 15, 21, 25, 26, 27, 30})\n",
      "(10, {0, 2, 35, 5, 37, 11, 13, 16, 18, 20, 21, 22, 24, 26, 29, 30})\n",
      "(11, {32, 33, 2, 3, 34, 35, 37, 38, 10, 13, 14, 16, 17, 19, 21, 23, 26, 28, 29})\n",
      "(12, {35, 36, 8, 9, 14, 17, 23, 25, 27, 30, 31})\n",
      "(13, {0, 34, 36, 6, 39, 8, 9, 10, 11, 18, 19, 22, 24, 26, 29})\n",
      "(14, {3, 35, 8, 9, 11, 12, 17, 23, 24, 25, 27, 31})\n",
      "(15, {0, 33, 2, 9, 16, 24, 29})\n",
      "(16, {0, 34, 4, 37, 6, 38, 8, 10, 11, 15, 18, 21, 23, 25, 28, 31})\n",
      "(17, {2, 3, 35, 36, 11, 12, 14, 21, 22, 24, 30})\n",
      "(18, {0, 32, 3, 4, 35, 38, 10, 13, 16, 20, 21, 22, 31})\n",
      "(19, {3, 35, 38, 39, 8, 11, 13, 20, 22, 23, 24, 25, 26, 29})\n",
      "(20, {0, 33, 6, 10, 18, 19, 22, 24})\n",
      "(21, {0, 35, 4, 39, 8, 9, 10, 11, 16, 17, 18, 23, 25, 26, 27})\n",
      "(22, {0, 1, 2, 3, 35, 36, 38, 10, 13, 17, 18, 19, 20, 30})\n",
      "(23, {32, 33, 34, 35, 39, 8, 11, 12, 14, 16, 19, 21, 29})\n",
      "(24, {3, 35, 36, 6, 39, 8, 10, 13, 14, 15, 17, 19, 20, 25, 30})\n",
      "(25, {1, 3, 4, 6, 8, 9, 12, 14, 16, 19, 21, 24, 26, 28, 29, 30, 32, 34, 35, 37, 38, 39})\n",
      "(26, {33, 35, 9, 10, 11, 13, 19, 21, 25, 27, 28})\n",
      "(27, {32, 33, 2, 35, 4, 36, 38, 39, 9, 12, 14, 21, 26, 28, 31})\n",
      "(28, {4, 7, 11, 16, 25, 26, 27, 30, 31})\n",
      "(29, {1, 2, 33, 7, 8, 10, 11, 13, 15, 19, 23, 25, 30})\n",
      "(30, {1, 3, 7, 9, 10, 12, 17, 22, 24, 25, 28, 29})\n",
      "(31, {0, 32, 3, 35, 36, 6, 38, 8, 12, 14, 16, 18, 27, 28})\n",
      "(32, {34, 3, 35, 6, 7, 38, 11, 18, 23, 25, 27, 31})\n",
      "(33, {0, 6, 38, 9, 11, 15, 20, 23, 26, 27, 29})\n",
      "(34, {32, 4, 5, 37, 38, 11, 13, 16, 23, 25})\n",
      "(35, {0, 2, 3, 4, 8, 10, 11, 12, 14, 17, 18, 19, 21, 22, 23, 24, 25, 26, 27, 31, 32, 39})\n",
      "(36, {3, 9, 12, 13, 17, 22, 24, 27, 31})\n",
      "(37, {2, 3, 34, 38, 10, 11, 16, 25})\n",
      "(38, {32, 1, 2, 33, 34, 37, 11, 16, 18, 19, 22, 25, 27, 31})\n",
      "(39, {0, 35, 8, 13, 19, 21, 23, 24, 25, 27})\n"
     ]
    }
   ],
   "source": [
    "g = {i: {j for j in range (N) if e[i,j]} for i in range (N)}\n",
    "print (*g.items (), sep='\\n')"
   ]
  },
  {
   "cell_type": "code",
   "execution_count": 97,
   "metadata": {
    "ExecuteTime": {
     "end_time": "2018-07-05T23:06:28.800298Z",
     "start_time": "2018-07-05T23:06:28.751460Z"
    },
    "collapsed": true
   },
   "outputs": [],
   "source": [
    "def bfs (adjacencies, start=None):\n",
    "    # Precondition:\n",
    "    assert adjacencies\n",
    "    \n",
    "    # Track remaining unprocessed nodes\n",
    "    remaining = {x for x in adjacencies.keys ()}\n",
    "    \n",
    "    # Decide BFS starting root node\n",
    "    if start in remaining:\n",
    "        remaining.remove (start)\n",
    "    else:\n",
    "        start = remaining.pop ()\n",
    "    \n",
    "    # BFS layers and record of seen nodes\n",
    "    layers = [{start}]\n",
    "    seen = {start}\n",
    "    \n",
    "    while remaining:\n",
    "        # Prepare to construct next_layer\n",
    "        prev_layer = layers[-1]\n",
    "        next_layer = set ()\n",
    "        \n",
    "        # Populate next_layer\n",
    "        for node in prev_layer:\n",
    "            next_layer |= adjacencies[node]\n",
    "        next_layer -= seen\n",
    "        \n",
    "        # Record next_layer\n",
    "        remaining -= next_layer\n",
    "        seen |= next_layer\n",
    "        layers.append (next_layer)\n",
    "        # Note: Append even if next_layer is empty.\n",
    "        # An empty set will separate layers of\n",
    "        # different connected components\n",
    "        \n",
    "        # Start new connected component\n",
    "        if not next_layer and remaining:\n",
    "            start = remaining.pop ()\n",
    "            seen.add (start)\n",
    "            layers.append ({start})\n",
    "        \n",
    "        # Remove final trailing empty set\n",
    "        elif not next_layer:\n",
    "            layers.pop ()\n",
    "            \n",
    "    return layers"
   ]
  },
  {
   "cell_type": "code",
   "execution_count": 98,
   "metadata": {
    "ExecuteTime": {
     "end_time": "2018-07-05T23:06:29.378424Z",
     "start_time": "2018-07-05T23:06:29.370447Z"
    }
   },
   "outputs": [
    {
     "name": "stdout",
     "output_type": "stream",
     "text": [
      "{0}\n",
      "{33, 35, 5, 39, 8, 9, 10, 13, 15, 16, 18, 20, 21, 22, 31}\n",
      "{1, 2, 3, 4, 6, 11, 12, 14, 17, 19, 23, 24, 25, 26, 27, 28, 29, 30, 32, 34, 36, 37, 38}\n",
      "{7}\n"
     ]
    },
    {
     "data": {
      "text/plain": [
       "4"
      ]
     },
     "execution_count": 98,
     "metadata": {},
     "output_type": "execute_result"
    }
   ],
   "source": [
    "h = bfs (g)\n",
    "print (*h, sep='\\n')\n",
    "len (h)"
   ]
  },
  {
   "cell_type": "code",
   "execution_count": 139,
   "metadata": {
    "ExecuteTime": {
     "end_time": "2018-07-06T00:13:58.215955Z",
     "start_time": "2018-07-06T00:13:58.199033Z"
    }
   },
   "outputs": [],
   "source": [
    "def recursive_bfs (adjacencies):\n",
    "    # Precondition:\n",
    "    assert adjacencies\n",
    "    \n",
    "    # Run BFS initially to get layers\n",
    "    layers = bfs (adjacencies)\n",
    "\n",
    "    # Recursively decompose each BFS layer\n",
    "    for i, layer in enumerate (layers):\n",
    "        # Prepare layer-local adjacencies\n",
    "        # (i.e. restrict edges to nodes within this layer)\n",
    "        local_adjacencies = {node: adjacencies[node] & layer for node in layer}\n",
    "        \n",
    "        # Done if there is only one (or fewer) node\n",
    "        if len (local_adjacencies) <= 1:\n",
    "            continue\n",
    "        \n",
    "        # Update layer with recursively decomposed result\n",
    "        else:\n",
    "            layers[i] = recursive_bfs (local_adjacencies)\n",
    "\n",
    "    return layers"
   ]
  },
  {
   "cell_type": "code",
   "execution_count": 140,
   "metadata": {
    "ExecuteTime": {
     "end_time": "2018-07-06T00:13:59.855652Z",
     "start_time": "2018-07-06T00:13:59.846678Z"
    }
   },
   "outputs": [
    {
     "name": "stdout",
     "output_type": "stream",
     "text": [
      "{0}\n",
      "[{33}, [{9}, {15}, set(), {20}], [{5}, {10}, [{13}, [{18}, {22}], [{16}, {21}]]], [{8}, [{35}, [{39}, set(), {31}]]]]\n",
      "[{1}, [{25}, [{29}, {30}, set(), {38}]], [{32}, [{34}, [{11}, {23}], {3}, {6}, set(), {27}], [{2}, [{17}, set(), {37}], [{24}, {14}, {12}], {19}, {26}, {28}, {4}]], {36}]\n",
      "{7}\n"
     ]
    },
    {
     "data": {
      "text/plain": [
       "4"
      ]
     },
     "execution_count": 140,
     "metadata": {},
     "output_type": "execute_result"
    }
   ],
   "source": [
    "p = recursive_bfs (g)\n",
    "print (*p, sep='\\n')\n",
    "len (p)"
   ]
  },
  {
   "cell_type": "code",
   "execution_count": 148,
   "metadata": {
    "ExecuteTime": {
     "end_time": "2018-07-06T02:27:01.869395Z",
     "start_time": "2018-07-06T02:27:01.824487Z"
    },
    "collapsed": true
   },
   "outputs": [],
   "source": [
    "def render (bfs_tree, depth=0):\n",
    "    text = []\n",
    "    \n",
    "    # Record seen nodes just to double-check\n",
    "    seen = set ()\n",
    "\n",
    "    # Set div orientation and indent level\n",
    "    indent = '  ' * (depth + 1)\n",
    "    if depth % 2:\n",
    "        orientation = 'horizontal'\n",
    "    else:\n",
    "        orientation = 'vertical'\n",
    "\n",
    "    # Render each layer (recursively if needed)\n",
    "    for i, layer in enumerate (bfs_tree):\n",
    "        \n",
    "        # Connected component divider\n",
    "        if not layer:\n",
    "            text.append ('{}<div class=\"break {}\"></div>'.format (indent, orientation))\n",
    "        \n",
    "        # Node\n",
    "        elif isinstance (layer, set):\n",
    "            text.append ('{}<div class=\"node {}\">{}</div>'.format (indent, orientation, *layer))\n",
    "            seen.update (layer)\n",
    "            \n",
    "        # Layer (must recurse deeper)\n",
    "        else:\n",
    "            rendered, _ = render (layer, depth=depth+1)\n",
    "            text.append ('{}<div class=\"layer {}\">\\n{}\\n{}</div>'.format (indent, orientation, rendered, indent))\n",
    "            seen.update (_)\n",
    "    \n",
    "    # Join rendered layers\n",
    "    text = '\\n'.join (text)\n",
    "    \n",
    "    # For outermost level, wrap in container, apply stylesheet\n",
    "    if depth == 0:\n",
    "        container = '<div class=\"container horizontal\">\\n{}\\n</div>\\n'\n",
    "        style = '<link rel=\"stylesheet\" type=\"text/css\" href=\"bfs_style.css\">'\n",
    "        container += style\n",
    "        text = container.format (text)\n",
    "    \n",
    "    return text, seen"
   ]
  },
  {
   "cell_type": "code",
   "execution_count": 150,
   "metadata": {
    "ExecuteTime": {
     "end_time": "2018-07-06T02:27:44.400309Z",
     "start_time": "2018-07-06T02:27:44.385350Z"
    },
    "scrolled": false
   },
   "outputs": [
    {
     "name": "stdout",
     "output_type": "stream",
     "text": [
      "{0, 1, 2, 3, 4, 5, 6, 7, 8, 9, 10, 11, 12, 13, 14, 15, 16, 17, 18, 19, 20, 21, 22, 23, 24, 25, 26, 27, 28, 29, 30, 31, 32, 33, 34, 35, 36, 37, 38, 39}\n",
      "<div class=\"container horizontal\">\n",
      "  <div class=\"node vertical\">0</div>\n",
      "  <div class=\"layer vertical\">\n",
      "    <div class=\"node horizontal\">33</div>\n",
      "    <div class=\"layer horizontal\">\n",
      "      <div class=\"node vertical\">9</div>\n",
      "      <div class=\"node vertical\">15</div>\n",
      "      <div class=\"break vertical\"></div>\n",
      "      <div class=\"node vertical\">20</div>\n",
      "    </div>\n",
      "    <div class=\"layer horizontal\">\n",
      "      <div class=\"node vertical\">5</div>\n",
      "      <div class=\"node vertical\">10</div>\n",
      "      <div class=\"layer vertical\">\n",
      "        <div class=\"node horizontal\">13</div>\n",
      "        <div class=\"layer horizontal\">\n",
      "          <div class=\"node vertical\">18</div>\n",
      "          <div class=\"node vertical\">22</div>\n",
      "        </div>\n",
      "        <div class=\"layer horizontal\">\n",
      "          <div class=\"node vertical\">16</div>\n",
      "          <div class=\"node vertical\">21</div>\n",
      "        </div>\n",
      "      </div>\n",
      "    </div>\n",
      "    <div class=\"layer horizontal\">\n",
      "      <div class=\"node vertical\">8</div>\n",
      "      <div class=\"layer vertical\">\n",
      "        <div class=\"node horizontal\">35</div>\n",
      "        <div class=\"layer horizontal\">\n",
      "          <div class=\"node vertical\">39</div>\n",
      "          <div class=\"break vertical\"></div>\n",
      "          <div class=\"node vertical\">31</div>\n",
      "        </div>\n",
      "      </div>\n",
      "    </div>\n",
      "  </div>\n",
      "  <div class=\"layer vertical\">\n",
      "    <div class=\"node horizontal\">1</div>\n",
      "    <div class=\"layer horizontal\">\n",
      "      <div class=\"node vertical\">25</div>\n",
      "      <div class=\"layer vertical\">\n",
      "        <div class=\"node horizontal\">29</div>\n",
      "        <div class=\"node horizontal\">30</div>\n",
      "        <div class=\"break horizontal\"></div>\n",
      "        <div class=\"node horizontal\">38</div>\n",
      "      </div>\n",
      "    </div>\n",
      "    <div class=\"layer horizontal\">\n",
      "      <div class=\"node vertical\">32</div>\n",
      "      <div class=\"layer vertical\">\n",
      "        <div class=\"node horizontal\">34</div>\n",
      "        <div class=\"layer horizontal\">\n",
      "          <div class=\"node vertical\">11</div>\n",
      "          <div class=\"node vertical\">23</div>\n",
      "        </div>\n",
      "        <div class=\"node horizontal\">3</div>\n",
      "        <div class=\"node horizontal\">6</div>\n",
      "        <div class=\"break horizontal\"></div>\n",
      "        <div class=\"node horizontal\">27</div>\n",
      "      </div>\n",
      "      <div class=\"layer vertical\">\n",
      "        <div class=\"node horizontal\">2</div>\n",
      "        <div class=\"layer horizontal\">\n",
      "          <div class=\"node vertical\">17</div>\n",
      "          <div class=\"break vertical\"></div>\n",
      "          <div class=\"node vertical\">37</div>\n",
      "        </div>\n",
      "        <div class=\"layer horizontal\">\n",
      "          <div class=\"node vertical\">24</div>\n",
      "          <div class=\"node vertical\">14</div>\n",
      "          <div class=\"node vertical\">12</div>\n",
      "        </div>\n",
      "        <div class=\"node horizontal\">19</div>\n",
      "        <div class=\"node horizontal\">26</div>\n",
      "        <div class=\"node horizontal\">28</div>\n",
      "        <div class=\"node horizontal\">4</div>\n",
      "      </div>\n",
      "    </div>\n",
      "    <div class=\"node horizontal\">36</div>\n",
      "  </div>\n",
      "  <div class=\"node vertical\">7</div>\n",
      "</div>\n",
      "<link rel=\"stylesheet\" type=\"text/css\" href=\"bfs_style.css\">\n"
     ]
    }
   ],
   "source": [
    "text, seen = render (p)\n",
    "print (seen)\n",
    "print (text)\n",
    "with open ('output.html', 'wt') as f:\n",
    "    f.write (text)\n"
   ]
  }
 ],
 "metadata": {
  "kernelspec": {
   "display_name": "Python 3",
   "language": "python",
   "name": "python3"
  },
  "language_info": {
   "codemirror_mode": {
    "name": "ipython",
    "version": 3
   },
   "file_extension": ".py",
   "mimetype": "text/x-python",
   "name": "python",
   "nbconvert_exporter": "python",
   "pygments_lexer": "ipython3",
   "version": "3.6.2"
  }
 },
 "nbformat": 4,
 "nbformat_minor": 2
}
