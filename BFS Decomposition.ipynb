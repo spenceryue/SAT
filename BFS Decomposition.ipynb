{
 "cells": [
  {
   "cell_type": "code",
   "execution_count": 1,
   "metadata": {
    "ExecuteTime": {
     "end_time": "2018-07-09T02:25:06.745047Z",
     "start_time": "2018-07-09T02:25:05.881648Z"
    },
    "collapsed": true
   },
   "outputs": [],
   "source": [
    "import numpy as np"
   ]
  },
  {
   "cell_type": "code",
   "execution_count": 2,
   "metadata": {
    "ExecuteTime": {
     "end_time": "2018-07-09T02:25:07.307740Z",
     "start_time": "2018-07-09T02:25:07.294801Z"
    }
   },
   "outputs": [
    {
     "data": {
      "text/plain": [
       "['4 -18 19\\n', '3 18 -5\\n', '-5 -8 -15\\n', '-20 7 -16\\n', '10 -13 -7\\n']"
      ]
     },
     "execution_count": 2,
     "metadata": {},
     "output_type": "execute_result"
    }
   ],
   "source": [
    "with open ('demo.txt', 'r') as f:\n",
    "    a = f.readlines ()\n",
    "a[:5]"
   ]
  },
  {
   "cell_type": "code",
   "execution_count": 3,
   "metadata": {
    "ExecuteTime": {
     "end_time": "2018-07-09T02:25:07.792457Z",
     "start_time": "2018-07-09T02:25:07.781476Z"
    }
   },
   "outputs": [
    {
     "name": "stdout",
     "output_type": "stream",
     "text": [
      "[[4, -18, 19], [3, 18, -5], [-5, -8, -15], [-20, 7, -16], [10, -13, -7]] 91\n"
     ]
    }
   ],
   "source": [
    "M = len (a)\n",
    "b = [[int (x) for x in row.split ()] for row in a]\n",
    "print (b[:5], M)"
   ]
  },
  {
   "cell_type": "code",
   "execution_count": 4,
   "metadata": {
    "ExecuteTime": {
     "end_time": "2018-07-09T02:25:08.211169Z",
     "start_time": "2018-07-09T02:25:08.206171Z"
    }
   },
   "outputs": [
    {
     "name": "stdout",
     "output_type": "stream",
     "text": [
      "{1, 2, 3, 4, 5, 6, 7, 8, 9, 10, 11, 12, 13, 14, 15, 16, 17, 18, 19, 20, -20, -19, -18, -17, -16, -15, -14, -13, -12, -11, -10, -9, -8, -7, -6, -5, -4, -3, -2, -1} 40\n"
     ]
    }
   ],
   "source": [
    "c = {x for row in b for x in row}\n",
    "print (c, len (c))"
   ]
  },
  {
   "cell_type": "code",
   "execution_count": 5,
   "metadata": {
    "ExecuteTime": {
     "end_time": "2018-07-09T02:25:08.660785Z",
     "start_time": "2018-07-09T02:25:08.652806Z"
    }
   },
   "outputs": [
    {
     "data": {
      "text/plain": [
       "[[3, 22, 18], [2, 17, 35], [35, 32, 25], [20, 6, 24], [9, 27, 33]]"
      ]
     },
     "execution_count": 5,
     "metadata": {},
     "output_type": "execute_result"
    }
   ],
   "source": [
    "N = len (c)\n",
    "d = [[(x + N) % N - (x > 0) for x in row] for row in b]\n",
    "d[:5]"
   ]
  },
  {
   "cell_type": "code",
   "execution_count": 52,
   "metadata": {
    "ExecuteTime": {
     "end_time": "2018-07-09T07:05:52.042040Z",
     "start_time": "2018-07-09T07:05:52.036072Z"
    },
    "collapsed": true
   },
   "outputs": [],
   "source": [
    "import time\n",
    "time.tics = []\n",
    "\n",
    "def tic ():\n",
    "    time.tics.append (time.time ())\n",
    "    \n",
    "def toc (prefix=''):\n",
    "    print (prefix + 'Elapsed: {:.2f} sec'.format (time.time () - time.tics.pop ()))"
   ]
  },
  {
   "cell_type": "code",
   "execution_count": 51,
   "metadata": {
    "ExecuteTime": {
     "end_time": "2018-07-09T07:05:51.381934Z",
     "start_time": "2018-07-09T07:05:51.377944Z"
    }
   },
   "outputs": [],
   "source": [
    "def verify (assignment, clauses):\n",
    "    return all (any (x in assignment for x in clause) for clause in clauses)"
   ]
  },
  {
   "cell_type": "code",
   "execution_count": 69,
   "metadata": {
    "ExecuteTime": {
     "end_time": "2018-07-09T07:16:19.543009Z",
     "start_time": "2018-07-09T07:16:19.535030Z"
    },
    "scrolled": false
   },
   "outputs": [
    {
     "data": {
      "text/plain": [
       "{(0, 39),\n",
       " (1, 38),\n",
       " (2, 37),\n",
       " (3, 36),\n",
       " (4, 35),\n",
       " (5, 34),\n",
       " (6, 33),\n",
       " (7, 32),\n",
       " (8, 31),\n",
       " (9, 30),\n",
       " (10, 29),\n",
       " (11, 28),\n",
       " (12, 27),\n",
       " (13, 26),\n",
       " (14, 25),\n",
       " (15, 24),\n",
       " (16, 23),\n",
       " (17, 22),\n",
       " (18, 21),\n",
       " (19, 20)}"
      ]
     },
     "execution_count": 69,
     "metadata": {},
     "output_type": "execute_result"
    }
   ],
   "source": [
    "possible = {(min (i, N - i - 1), max (i, N - i - 1)) for i in {x for row in d for x in row}}\n",
    "possible"
   ]
  },
  {
   "cell_type": "code",
   "execution_count": 71,
   "metadata": {
    "ExecuteTime": {
     "end_time": "2018-07-09T07:17:01.706387Z",
     "start_time": "2018-07-09T07:16:53.145225Z"
    }
   },
   "outputs": [
    {
     "name": "stdout",
     "output_type": "stream",
     "text": [
      "Elapsed: 8.54 sec\n",
      "Valid assignments found after 1048576 iterations: 8.\n",
      "(7, 24, 10, 27, 33, 14, 28, 13, 39, 34, 8, 16, 1, 9, 35, 17, 18, 2, 19, 3)\n",
      "(7, 24, 29, 12, 33, 14, 28, 13, 0, 34, 31, 16, 38, 9, 35, 22, 21, 37, 19, 3)\n",
      "(32, 24, 29, 12, 33, 14, 28, 13, 0, 5, 8, 16, 38, 30, 35, 22, 21, 37, 19, 36)\n",
      "(32, 24, 29, 12, 33, 14, 28, 13, 0, 5, 31, 16, 38, 9, 35, 22, 21, 37, 19, 3)\n",
      "(32, 24, 29, 12, 33, 14, 28, 13, 0, 5, 31, 16, 38, 30, 35, 22, 21, 37, 19, 3)\n",
      "(32, 24, 29, 12, 33, 14, 28, 13, 0, 5, 31, 16, 38, 30, 35, 22, 21, 37, 19, 36)\n",
      "(32, 24, 29, 12, 33, 14, 28, 13, 0, 34, 31, 16, 38, 9, 35, 22, 21, 37, 19, 3)\n",
      "(32, 24, 29, 27, 33, 14, 28, 13, 0, 5, 8, 16, 38, 30, 35, 22, 21, 37, 19, 36)\n"
     ]
    }
   ],
   "source": [
    "from itertools import product\n",
    "\n",
    "valid = []\n",
    "\n",
    "tic ()\n",
    "for i, assignment in enumerate (product (*possible)):\n",
    "    if verify (assignment, d):\n",
    "        valid.append (assignment)\n",
    "#         break\n",
    "toc ()\n",
    "\n",
    "print ('Valid assignments found after {} iterations: {}.'.format (i+1, len (valid)))\n",
    "print (*valid, sep='\\n')"
   ]
  },
  {
   "cell_type": "code",
   "execution_count": 82,
   "metadata": {
    "ExecuteTime": {
     "end_time": "2018-07-09T07:25:22.304195Z",
     "start_time": "2018-07-09T07:25:22.294197Z"
    }
   },
   "outputs": [
    {
     "name": "stdout",
     "output_type": "stream",
     "text": [
      "26,37,36,32,14,4,39,15,5,20,1\n",
      "[1, 4, 5, 14, 15, 20, 26, 32, 36, 37, 39]\n",
      "[1, 14, 39]\n",
      "[14, 37]\n",
      "[5, 14, 32, 36, 37]\n",
      "[5, 14, 32, 37]\n",
      "[5, 14, 32, 37]\n",
      "[5, 14, 32, 36, 37]\n",
      "[14, 32, 37]\n",
      "[5, 14, 32, 36, 37]\n"
     ]
    }
   ],
   "source": [
    "found = {int (x) for x in subsets[-1].split (',')}\n",
    "intersected = [sorted (found & set (x)) for x in valid]\n",
    "print (subsets[-1])\n",
    "print (sorted (found))\n",
    "print (*intersected, sep='\\n')"
   ]
  },
  {
   "cell_type": "code",
   "execution_count": 6,
   "metadata": {
    "ExecuteTime": {
     "end_time": "2018-07-09T02:25:09.292504Z",
     "start_time": "2018-07-09T02:25:09.280535Z"
    },
    "collapsed": true
   },
   "outputs": [],
   "source": [
    "def plot_matrix (matrix):\n",
    "    matrix = np.array ([[i,j] for i in range (N) for j in range (N) if matrix[i,j]])\n",
    "    from matplotlib import pyplot as plt\n",
    "    plt.scatter (matrix[:,1], -matrix[:,0], c='g')\n",
    "    plt.gca ().set_aspect (1)\n",
    "    plt.xlabel ('Column Index', fontsize=12)\n",
    "    plt.ylabel ('Row Index\\n(Don\\'t mind the negative)', fontsize=12)\n",
    "    plt.show ()\n",
    "    return matrix"
   ]
  },
  {
   "cell_type": "code",
   "execution_count": 7,
   "metadata": {
    "ExecuteTime": {
     "end_time": "2018-07-09T02:25:11.815163Z",
     "start_time": "2018-07-09T02:25:10.343439Z"
    }
   },
   "outputs": [
    {
     "data": {
      "image/png": "[encoded data removed]",
      "text/plain": [
       "<Figure size 432x288 with 1 Axes>"
      ]
     },
     "metadata": {},
     "output_type": "display_data"
    }
   ],
   "source": [
    "e = np.zeros ([N, N], dtype=bool)\n",
    "e[range (N), range (N-1,-1,-1)] = 1\n",
    "plot_matrix (e);"
   ]
  },
  {
   "cell_type": "code",
   "execution_count": 8,
   "metadata": {
    "ExecuteTime": {
     "end_time": "2018-07-09T02:25:12.984008Z",
     "start_time": "2018-07-09T02:25:12.978047Z"
    },
    "collapsed": true
   },
   "outputs": [],
   "source": [
    "def make_edge (triple):\n",
    "    triple = sorted (triple)\n",
    "    from itertools import combinations\n",
    "    for i,j in combinations (triple, 2):\n",
    "        e[i,j] = e[j,i] = 1"
   ]
  },
  {
   "cell_type": "code",
   "execution_count": 9,
   "metadata": {
    "ExecuteTime": {
     "end_time": "2018-07-09T02:25:14.296219Z",
     "start_time": "2018-07-09T02:25:14.175432Z"
    }
   },
   "outputs": [
    {
     "name": "stdout",
     "output_type": "stream",
     "text": [
      "177 more edges (268) than clauses (91).\n"
     ]
    },
    {
     "data": {
      "image/png": "[encoded data removed]",
      "text/plain": [
       "<Figure size 432x288 with 1 Axes>"
      ]
     },
     "metadata": {},
     "output_type": "display_data"
    }
   ],
   "source": [
    "for row in d:\n",
    "    make_edge (row)\n",
    "E = (e.sum () - N) // 2 + N\n",
    "print ('{} more edges ({}) than clauses ({}).'.format (E - M, E, M))\n",
    "f = plot_matrix (e)"
   ]
  },
  {
   "cell_type": "code",
   "execution_count": 10,
   "metadata": {
    "ExecuteTime": {
     "end_time": "2018-07-09T02:25:36.573240Z",
     "start_time": "2018-07-09T02:25:36.562239Z"
    }
   },
   "outputs": [
    {
     "name": "stdout",
     "output_type": "stream",
     "text": [
      "(0, {33, 35, 5, 39, 8, 9, 10, 13, 15, 16, 18, 20, 21, 22, 31})\n",
      "(1, {38, 22, 25, 29, 30})\n",
      "(2, {35, 37, 38, 10, 11, 15, 17, 22, 27, 29})\n",
      "(3, {32, 35, 36, 37, 6, 8, 11, 14, 17, 18, 19, 22, 24, 25, 30, 31})\n",
      "(4, {34, 35, 16, 18, 21, 25, 27, 28})\n",
      "(5, {0, 34, 6, 8, 9, 10})\n",
      "(6, {32, 33, 3, 5, 9, 13, 16, 20, 24, 25, 31})\n",
      "(7, {32, 28, 29, 30})\n",
      "(8, {0, 3, 35, 5, 39, 12, 13, 14, 16, 19, 21, 23, 24, 25, 29, 31})\n",
      "(9, {0, 33, 36, 5, 6, 12, 13, 14, 15, 21, 25, 26, 27, 30})\n",
      "(10, {0, 2, 35, 5, 37, 11, 13, 16, 18, 20, 21, 22, 24, 26, 29, 30})\n",
      "(11, {32, 33, 2, 3, 34, 35, 37, 38, 10, 13, 14, 16, 17, 19, 21, 23, 26, 28, 29})\n",
      "(12, {35, 36, 8, 9, 14, 17, 23, 25, 27, 30, 31})\n",
      "(13, {0, 34, 36, 6, 39, 8, 9, 10, 11, 18, 19, 22, 24, 26, 29})\n",
      "(14, {3, 35, 8, 9, 11, 12, 17, 23, 24, 25, 27, 31})\n",
      "(15, {0, 33, 2, 9, 16, 24, 29})\n",
      "(16, {0, 34, 4, 37, 6, 38, 8, 10, 11, 15, 18, 21, 23, 25, 28, 31})\n",
      "(17, {2, 3, 35, 36, 11, 12, 14, 21, 22, 24, 30})\n",
      "(18, {0, 32, 3, 4, 35, 38, 10, 13, 16, 20, 21, 22, 31})\n",
      "(19, {3, 35, 38, 39, 8, 11, 13, 20, 22, 23, 24, 25, 26, 29})\n",
      "(20, {0, 33, 6, 10, 18, 19, 22, 24})\n",
      "(21, {0, 35, 4, 39, 8, 9, 10, 11, 16, 17, 18, 23, 25, 26, 27})\n",
      "(22, {0, 1, 2, 3, 35, 36, 38, 10, 13, 17, 18, 19, 20, 30})\n",
      "(23, {32, 33, 34, 35, 39, 8, 11, 12, 14, 16, 19, 21, 29})\n",
      "(24, {3, 35, 36, 6, 39, 8, 10, 13, 14, 15, 17, 19, 20, 25, 30})\n",
      "(25, {1, 3, 4, 6, 8, 9, 12, 14, 16, 19, 21, 24, 26, 28, 29, 30, 32, 34, 35, 37, 38, 39})\n",
      "(26, {33, 35, 9, 10, 11, 13, 19, 21, 25, 27, 28})\n",
      "(27, {32, 33, 2, 35, 4, 36, 38, 39, 9, 12, 14, 21, 26, 28, 31})\n",
      "(28, {4, 7, 11, 16, 25, 26, 27, 30, 31})\n",
      "(29, {1, 2, 33, 7, 8, 10, 11, 13, 15, 19, 23, 25, 30})\n",
      "(30, {1, 3, 7, 9, 10, 12, 17, 22, 24, 25, 28, 29})\n",
      "(31, {0, 32, 3, 35, 36, 6, 38, 8, 12, 14, 16, 18, 27, 28})\n",
      "(32, {34, 3, 35, 6, 7, 38, 11, 18, 23, 25, 27, 31})\n",
      "(33, {0, 6, 38, 9, 11, 15, 20, 23, 26, 27, 29})\n",
      "(34, {32, 4, 5, 37, 38, 11, 13, 16, 23, 25})\n",
      "(35, {0, 2, 3, 4, 8, 10, 11, 12, 14, 17, 18, 19, 21, 22, 23, 24, 25, 26, 27, 31, 32, 39})\n",
      "(36, {3, 9, 12, 13, 17, 22, 24, 27, 31})\n",
      "(37, {2, 3, 34, 38, 10, 11, 16, 25})\n",
      "(38, {32, 1, 2, 33, 34, 37, 11, 16, 18, 19, 22, 25, 27, 31})\n",
      "(39, {0, 35, 8, 13, 19, 21, 23, 24, 25, 27})\n"
     ]
    }
   ],
   "source": [
    "g = {i: {j for j in range (N) if e[i,j]} for i in range (N)}\n",
    "print (*g.items (), sep='\\n')"
   ]
  },
  {
   "cell_type": "code",
   "execution_count": 11,
   "metadata": {
    "ExecuteTime": {
     "end_time": "2018-07-09T02:25:40.960301Z",
     "start_time": "2018-07-09T02:25:40.906449Z"
    },
    "collapsed": true
   },
   "outputs": [],
   "source": [
    "def bfs (adjacencies, start=None, append_empty=True):\n",
    "    # Precondition:\n",
    "    assert adjacencies\n",
    "    \n",
    "    # Track remaining unprocessed nodes\n",
    "    remaining = {x for x in adjacencies.keys ()}\n",
    "    \n",
    "    # Decide BFS starting root node\n",
    "    if start in remaining:\n",
    "        remaining.remove (start)\n",
    "    else:\n",
    "        start = remaining.pop ()\n",
    "    \n",
    "    # BFS layers and record of seen nodes\n",
    "    layers = [{start}]\n",
    "    seen = {start}\n",
    "    \n",
    "    while remaining:\n",
    "        # Prepare to construct next_layer\n",
    "        prev_layer = layers[-1]\n",
    "        next_layer = set ()\n",
    "        \n",
    "        # Populate next_layer\n",
    "        for node in prev_layer:\n",
    "            next_layer |= adjacencies[node]\n",
    "        next_layer -= seen\n",
    "        \n",
    "        # Record next_layer\n",
    "        remaining -= next_layer\n",
    "        seen |= next_layer\n",
    "        # Note: Append even if next_layer is empty.\n",
    "        # An empty set will separate layers of\n",
    "        # different connected components\n",
    "        layers.append (next_layer)\n",
    "        \n",
    "        # Start new connected component\n",
    "        if not next_layer and remaining:\n",
    "            if not append_empty:\n",
    "                layers.pop ()\n",
    "            start = remaining.pop ()\n",
    "            seen.add (start)\n",
    "            layers.append ({start})\n",
    "        \n",
    "        # Remove final trailing empty set (applicable iff append_empty option set)\n",
    "        elif not next_layer:\n",
    "            layers.pop ()\n",
    "            \n",
    "    return layers"
   ]
  },
  {
   "cell_type": "code",
   "execution_count": 12,
   "metadata": {
    "ExecuteTime": {
     "end_time": "2018-07-09T02:25:42.874544Z",
     "start_time": "2018-07-09T02:25:42.866566Z"
    }
   },
   "outputs": [
    {
     "name": "stdout",
     "output_type": "stream",
     "text": [
      "{0}\n",
      "{33, 35, 5, 39, 8, 9, 10, 13, 15, 16, 18, 20, 21, 22, 31}\n",
      "{1, 2, 3, 4, 6, 11, 12, 14, 17, 19, 23, 24, 25, 26, 27, 28, 29, 30, 32, 34, 36, 37, 38}\n",
      "{7}\n"
     ]
    },
    {
     "data": {
      "text/plain": [
       "4"
      ]
     },
     "execution_count": 12,
     "metadata": {},
     "output_type": "execute_result"
    }
   ],
   "source": [
    "h = bfs (g)\n",
    "print (*h, sep='\\n')\n",
    "len (h)"
   ]
  },
  {
   "cell_type": "code",
   "execution_count": 13,
   "metadata": {
    "ExecuteTime": {
     "end_time": "2018-07-09T02:25:45.182783Z",
     "start_time": "2018-07-09T02:25:45.173779Z"
    }
   },
   "outputs": [
    {
     "data": {
      "text/plain": [
       "{0: {5, 8, 9, 10, 13, 15, 16, 18, 20, 21, 22, 31, 33, 35, 39},\n",
       " 1: {22, 25, 29, 30, 38},\n",
       " 2: {10, 11, 15, 17, 22, 27, 29, 35, 37, 38},\n",
       " 3: {6, 8, 11, 14, 17, 18, 19, 22, 24, 25, 30, 31, 32, 35, 36, 37},\n",
       " 4: {16, 18, 21, 25, 27, 28, 34, 35},\n",
       " 5: {6, 8, 9, 10, 34},\n",
       " 6: {9, 13, 16, 20, 24, 25, 31, 32, 33},\n",
       " 7: {28, 29, 30, 32},\n",
       " 8: {12, 13, 14, 16, 19, 21, 23, 24, 25, 29, 31, 35, 39},\n",
       " 9: {12, 13, 14, 15, 21, 25, 26, 27, 30, 33, 36},\n",
       " 10: {11, 13, 16, 18, 20, 21, 22, 24, 26, 29, 30, 35, 37},\n",
       " 11: {13, 14, 16, 17, 19, 21, 23, 26, 28, 29, 32, 33, 34, 35, 37, 38},\n",
       " 12: {14, 17, 23, 25, 27, 30, 31, 35, 36},\n",
       " 13: {18, 19, 22, 24, 26, 29, 34, 36, 39},\n",
       " 14: {17, 23, 24, 25, 27, 31, 35},\n",
       " 15: {16, 24, 29, 33},\n",
       " 16: {18, 21, 23, 25, 28, 31, 34, 37, 38},\n",
       " 17: {21, 22, 24, 30, 35, 36},\n",
       " 18: {20, 21, 22, 31, 32, 35, 38},\n",
       " 19: {20, 22, 23, 24, 25, 26, 29, 35, 38, 39},\n",
       " 20: {22, 24, 33},\n",
       " 21: {23, 25, 26, 27, 35, 39},\n",
       " 22: {30, 35, 36, 38},\n",
       " 23: {29, 32, 33, 34, 35, 39},\n",
       " 24: {25, 30, 35, 36, 39},\n",
       " 25: {26, 28, 29, 30, 32, 34, 35, 37, 38, 39},\n",
       " 26: {27, 28, 33, 35},\n",
       " 27: {28, 31, 32, 33, 35, 36, 38, 39},\n",
       " 28: {30, 31},\n",
       " 29: {30, 33},\n",
       " 30: set(),\n",
       " 31: {32, 35, 36, 38},\n",
       " 32: {34, 35, 38},\n",
       " 33: {38},\n",
       " 34: {37, 38},\n",
       " 35: {39},\n",
       " 36: set(),\n",
       " 37: {38},\n",
       " 38: set(),\n",
       " 39: set()}"
      ]
     },
     "execution_count": 13,
     "metadata": {},
     "output_type": "execute_result"
    }
   ],
   "source": [
    "gg = {i: {node for node in g[i] if node > i} for i in g}\n",
    "gg"
   ]
  },
  {
   "cell_type": "code",
   "execution_count": 37,
   "metadata": {
    "ExecuteTime": {
     "end_time": "2018-07-09T02:53:46.855956Z",
     "start_time": "2018-07-09T02:53:46.846008Z"
    },
    "collapsed": true
   },
   "outputs": [],
   "source": [
    "from functools import reduce\n",
    "\n",
    "def is_valid (combo, registered):\n",
    "    if not isinstance (combo, set):\n",
    "        combo = set (combo)\n",
    "    isdisjoint = combo.isdisjoint\n",
    "    for i in combo:\n",
    "        if not isdisjoint (registered[i]):\n",
    "            return False, None\n",
    "    \n",
    "    adjacent = reduce (set.__or__, (registered[i] for i in combo), set ())\n",
    "    return True, adjacent"
   ]
  },
  {
   "cell_type": "code",
   "execution_count": 17,
   "metadata": {
    "ExecuteTime": {
     "end_time": "2018-07-09T02:26:31.100277Z",
     "start_time": "2018-07-09T02:26:31.081326Z"
    }
   },
   "outputs": [],
   "source": [
    "from itertools import combinations\n",
    "from math import factorial\n",
    "\n",
    "def valid_subsets (layer):\n",
    "    n = len (layer)\n",
    "    subsets = []\n",
    "\n",
    "    tic ()\n",
    "    for r in range (1, n+1):\n",
    "        print ('Beginning r={}'.format (r))\n",
    "        for combo in combinations (layer, r):\n",
    "            valid, _ = is_valid (combo, gg)\n",
    "            if valid:\n",
    "                subsets.append (combo)\n",
    "        count = factorial (n) // factorial (r) // factorial (n - r)\n",
    "        print ('Finished r={}. {} combinations checked.'.format (r, count))\n",
    "        print ('______________________________________________')\n",
    "    toc ()\n",
    "    \n",
    "    return subsets"
   ]
  },
  {
   "cell_type": "code",
   "execution_count": 18,
   "metadata": {
    "ExecuteTime": {
     "end_time": "2018-07-09T02:26:39.047868Z",
     "start_time": "2018-07-09T02:26:32.075634Z"
    },
    "scrolled": false
   },
   "outputs": [
    {
     "name": "stdout",
     "output_type": "stream",
     "text": [
      "Beginning r=1\n",
      "Finished r=1. 1 combinations checked.\n",
      "______________________________________________\n",
      "Elapsed: 0.00 sec\n",
      "1\n",
      "Beginning r=1\n",
      "Finished r=1. 15 combinations checked.\n",
      "______________________________________________\n",
      "Beginning r=2\n",
      "Finished r=2. 105 combinations checked.\n",
      "______________________________________________\n",
      "Beginning r=3\n",
      "Finished r=3. 455 combinations checked.\n",
      "______________________________________________\n",
      "Beginning r=4\n",
      "Finished r=4. 1365 combinations checked.\n",
      "______________________________________________\n",
      "Beginning r=5\n",
      "Finished r=5. 3003 combinations checked.\n",
      "______________________________________________\n",
      "Beginning r=6\n",
      "Finished r=6. 5005 combinations checked.\n",
      "______________________________________________\n",
      "Beginning r=7\n",
      "Finished r=7. 6435 combinations checked.\n",
      "______________________________________________\n",
      "Beginning r=8\n",
      "Finished r=8. 6435 combinations checked.\n",
      "______________________________________________\n",
      "Beginning r=9\n",
      "Finished r=9. 5005 combinations checked.\n",
      "______________________________________________\n",
      "Beginning r=10\n",
      "Finished r=10. 3003 combinations checked.\n",
      "______________________________________________\n",
      "Beginning r=11\n",
      "Finished r=11. 1365 combinations checked.\n",
      "______________________________________________\n",
      "Beginning r=12\n",
      "Finished r=12. 455 combinations checked.\n",
      "______________________________________________\n",
      "Beginning r=13\n",
      "Finished r=13. 105 combinations checked.\n",
      "______________________________________________\n",
      "Beginning r=14\n",
      "Finished r=14. 15 combinations checked.\n",
      "______________________________________________\n",
      "Beginning r=15\n",
      "Finished r=15. 1 combinations checked.\n",
      "______________________________________________\n",
      "Elapsed: 0.03 sec\n",
      "264\n",
      "Beginning r=1\n",
      "Finished r=1. 23 combinations checked.\n",
      "______________________________________________\n",
      "Beginning r=2\n",
      "Finished r=2. 253 combinations checked.\n",
      "______________________________________________\n",
      "Beginning r=3\n",
      "Finished r=3. 1771 combinations checked.\n",
      "______________________________________________\n",
      "Beginning r=4\n",
      "Finished r=4. 8855 combinations checked.\n",
      "______________________________________________\n",
      "Beginning r=5\n",
      "Finished r=5. 33649 combinations checked.\n",
      "______________________________________________\n",
      "Beginning r=6\n",
      "Finished r=6. 100947 combinations checked.\n",
      "______________________________________________\n",
      "Beginning r=7\n",
      "Finished r=7. 245157 combinations checked.\n",
      "______________________________________________\n",
      "Beginning r=8\n",
      "Finished r=8. 490314 combinations checked.\n",
      "______________________________________________\n",
      "Beginning r=9\n",
      "Finished r=9. 817190 combinations checked.\n",
      "______________________________________________\n",
      "Beginning r=10\n",
      "Finished r=10. 1144066 combinations checked.\n",
      "______________________________________________\n",
      "Beginning r=11\n",
      "Finished r=11. 1352078 combinations checked.\n",
      "______________________________________________\n",
      "Beginning r=12\n",
      "Finished r=12. 1352078 combinations checked.\n",
      "______________________________________________\n",
      "Beginning r=13\n",
      "Finished r=13. 1144066 combinations checked.\n",
      "______________________________________________\n",
      "Beginning r=14\n",
      "Finished r=14. 817190 combinations checked.\n",
      "______________________________________________\n",
      "Beginning r=15\n",
      "Finished r=15. 490314 combinations checked.\n",
      "______________________________________________\n",
      "Beginning r=16\n",
      "Finished r=16. 245157 combinations checked.\n",
      "______________________________________________\n",
      "Beginning r=17\n",
      "Finished r=17. 100947 combinations checked.\n",
      "______________________________________________\n",
      "Beginning r=18\n",
      "Finished r=18. 33649 combinations checked.\n",
      "______________________________________________\n",
      "Beginning r=19\n",
      "Finished r=19. 8855 combinations checked.\n",
      "______________________________________________\n",
      "Beginning r=20\n",
      "Finished r=20. 1771 combinations checked.\n",
      "______________________________________________\n",
      "Beginning r=21\n",
      "Finished r=21. 253 combinations checked.\n",
      "______________________________________________\n",
      "Beginning r=22\n",
      "Finished r=22. 23 combinations checked.\n",
      "______________________________________________\n",
      "Beginning r=23\n",
      "Finished r=23. 1 combinations checked.\n",
      "______________________________________________\n",
      "Elapsed: 6.93 sec\n",
      "2469\n",
      "Beginning r=1\n",
      "Finished r=1. 1 combinations checked.\n",
      "______________________________________________\n",
      "Elapsed: 0.00 sec\n",
      "1\n"
     ]
    }
   ],
   "source": [
    "for layer in h:\n",
    "    print (len (valid_subsets (layer)))"
   ]
  },
  {
   "cell_type": "code",
   "execution_count": 19,
   "metadata": {
    "ExecuteTime": {
     "end_time": "2018-07-09T02:26:50.918077Z",
     "start_time": "2018-07-09T02:26:50.902118Z"
    },
    "collapsed": true
   },
   "outputs": [],
   "source": [
    "def recursive_bfs (adjacencies, **kwargs):\n",
    "    # Precondition:\n",
    "    assert adjacencies\n",
    "    \n",
    "    # Run BFS initially to get layers\n",
    "    layers = bfs (adjacencies, **kwargs)\n",
    "\n",
    "    # Recursively decompose each BFS layer\n",
    "    for i, layer in enumerate (layers):\n",
    "        # Prepare layer-local adjacencies\n",
    "        # (i.e. restrict edges to nodes within this layer)\n",
    "        local_adjacencies = {node: adjacencies[node] & layer for node in layer}\n",
    "        \n",
    "        # Done if there is only one (or fewer) node\n",
    "        if len (local_adjacencies) <= 1:\n",
    "            continue\n",
    "        \n",
    "        # Update layer with recursively decomposed result\n",
    "        else:\n",
    "            layers[i] = recursive_bfs (local_adjacencies, **kwargs)\n",
    "\n",
    "    return layers"
   ]
  },
  {
   "cell_type": "code",
   "execution_count": 20,
   "metadata": {
    "ExecuteTime": {
     "end_time": "2018-07-09T02:26:53.126421Z",
     "start_time": "2018-07-09T02:26:53.117470Z"
    }
   },
   "outputs": [
    {
     "name": "stdout",
     "output_type": "stream",
     "text": [
      "{0}\n",
      "[{33}, [{9}, {15}, set(), {20}], [{5}, {10}, [{13}, [{18}, {22}], [{16}, {21}]]], [{8}, [{35}, [{39}, set(), {31}]]]]\n",
      "[{1}, [{25}, [{29}, {30}, set(), {38}]], [{32}, [{34}, [{11}, {23}], {3}, {6}, set(), {27}], [{2}, [{17}, set(), {37}], [{24}, {14}, {12}], {19}, {26}, {28}, {4}]], {36}]\n",
      "{7}\n"
     ]
    },
    {
     "data": {
      "text/plain": [
       "4"
      ]
     },
     "execution_count": 20,
     "metadata": {},
     "output_type": "execute_result"
    }
   ],
   "source": [
    "p = recursive_bfs (g)\n",
    "print (*p, sep='\\n')\n",
    "len (p)"
   ]
  },
  {
   "cell_type": "code",
   "execution_count": 43,
   "metadata": {
    "ExecuteTime": {
     "end_time": "2018-07-09T03:00:42.224038Z",
     "start_time": "2018-07-09T03:00:42.095322Z"
    }
   },
   "outputs": [],
   "source": [
    "from operator import mul\n",
    "from functools import reduce\n",
    "from itertools import combinations, product\n",
    "from math import factorial\n",
    "\n",
    "def recursive_valid_subsets (layers, registered, depth=0):\n",
    "    indent = '..' * depth\n",
    "    \n",
    "    # Return immediately if reached a leaf node\n",
    "    if len (layers) == 0:\n",
    "        print (indent + 'Return immediately from depth {}.'.format (depth))\n",
    "        return ('',), 1\n",
    "    elif len (layers) == 1:\n",
    "        print (indent + 'Return immediately from depth {}.'.format (depth))\n",
    "        return ('{}'.format (*layers),), 1\n",
    "    \n",
    "    print (indent + 'Start depth {}.'.format (depth))\n",
    "    print (indent + '{}.'.format (layers))\n",
    "    \n",
    "    # Get all subsets for deeper layers (recursively)\n",
    "    tic ()\n",
    "    print (indent + 'Recurse {} deeper layers.'.format (len (layers)))\n",
    "    layers, num_checked = zip (*(recursive_valid_subsets (layer, registered, depth=depth+1) for layer in layers))\n",
    "    total = sum (len (layer) for layer in layers)\n",
    "    print (indent + 'Returning from {} deeper layers. Total number of subsets: {}.'.format (len (layers), total))\n",
    "    print (indent + 'Product space size: {}.'.format (reduce (mul, (len (layer) for layer in layers), 1)))\n",
    "    toc (indent)\n",
    "    \n",
    "    # Form all compatible new subsets from unions of old subsets (try all combinations from separate layers)\n",
    "    n = len (layers)\n",
    "    subsets = [subset for layer in layers for subset in layer]\n",
    "    tally = count = 0\n",
    "    length_seen = 1\n",
    "    append = list.append\n",
    "    tic ()\n",
    "    for r in range (2, n+1):\n",
    "        for layer_indices in combinations (range (n), r):\n",
    "            for combo in product (*(layers[i] for i in layer_indices)):\n",
    "                combo = set (s for c in combo for s in c.split (','))\n",
    "                valid, adjacent = is_valid (combo, registered)\n",
    "                if valid:\n",
    "                    key = ','.join (combo)\n",
    "                    if depth == 0 and len (combo) > length_seen:\n",
    "                        length_seen = len (combo)\n",
    "                        append (subsets, key)\n",
    "                    elif depth > 0:\n",
    "                        append (subsets, key)\n",
    "                    tally += 1\n",
    "                count += 1\n",
    "    toc (indent)\n",
    "    \n",
    "    print (indent + 'End Depth {}.\\n'.format (depth) +\n",
    "           indent + '{} combinations checked.\\n'.format (count) +\n",
    "           indent + 'New subsets formed: {}.\\n'.format (tally))\n",
    "    print (indent[:-2] + '________________________________________________')\n",
    "           \n",
    "    return subsets, sum (num_checked) + count"
   ]
  },
  {
   "cell_type": "code",
   "execution_count": 24,
   "metadata": {
    "ExecuteTime": {
     "end_time": "2018-07-09T02:30:44.703379Z",
     "start_time": "2018-07-09T02:30:44.695403Z"
    }
   },
   "outputs": [
    {
     "name": "stdout",
     "output_type": "stream",
     "text": [
      "{0}\n",
      "[{33}, [{9}, {15}, {20}], [{5}, {10}, [{13}, [{18}, {22}], [{16}, {21}]]], [{8}, [{35}, [{39}, {31}]]]]\n",
      "[{1}, [{25}, [{29}, {30}, {38}]], [{32}, [{34}, [{11}, {23}], {3}, {6}, {27}], [{2}, [{17}, {37}], [{24}, {14}, {12}], {19}, {26}, {28}, {4}]], {36}]\n",
      "{7}\n"
     ]
    },
    {
     "data": {
      "text/plain": [
       "4"
      ]
     },
     "execution_count": 24,
     "metadata": {},
     "output_type": "execute_result"
    }
   ],
   "source": [
    "# Note the append_empty option\n",
    "q = recursive_bfs (g, append_empty=False)\n",
    "print (*q, sep='\\n')\n",
    "len (q)"
   ]
  },
  {
   "cell_type": "code",
   "execution_count": 44,
   "metadata": {
    "ExecuteTime": {
     "end_time": "2018-07-09T03:00:51.141604Z",
     "start_time": "2018-07-09T03:00:44.108738Z"
    },
    "scrolled": false
   },
   "outputs": [
    {
     "name": "stdout",
     "output_type": "stream",
     "text": [
      "Start depth 0.\n",
      "[{0}, [{33}, [{9}, {15}, {20}], [{5}, {10}, [{13}, [{18}, {22}], [{16}, {21}]]], [{8}, [{35}, [{39}, {31}]]]], [{1}, [{25}, [{29}, {30}, {38}]], [{32}, [{34}, [{11}, {23}], {3}, {6}, {27}], [{2}, [{17}, {37}], [{24}, {14}, {12}], {19}, {26}, {28}, {4}]], {36}], {7}].\n",
      "Recurse 4 deeper layers.\n",
      "..Return immediately from depth 1.\n",
      "..Start depth 1.\n",
      "..[{33}, [{9}, {15}, {20}], [{5}, {10}, [{13}, [{18}, {22}], [{16}, {21}]]], [{8}, [{35}, [{39}, {31}]]]].\n",
      "..Recurse 4 deeper layers.\n",
      "....Return immediately from depth 2.\n",
      "....Start depth 2.\n",
      "....[{9}, {15}, {20}].\n",
      "....Recurse 3 deeper layers.\n",
      "......Return immediately from depth 3.\n",
      "......Return immediately from depth 3.\n",
      "......Return immediately from depth 3.\n",
      "....Returning from 3 deeper layers. Total number of subsets: 3.\n",
      "....Product space size: 1.\n",
      "....Elapsed: 0.00 sec\n",
      "....Elapsed: 0.00 sec\n",
      "....End Depth 2.\n",
      "....4 combinations checked.\n",
      "....New subsets formed: 2.\n",
      "\n",
      "..________________________________________________\n",
      "....Start depth 2.\n",
      "....[{5}, {10}, [{13}, [{18}, {22}], [{16}, {21}]]].\n",
      "....Recurse 3 deeper layers.\n",
      "......Return immediately from depth 3.\n",
      "......Return immediately from depth 3.\n",
      "......Start depth 3.\n",
      "......[{13}, [{18}, {22}], [{16}, {21}]].\n",
      "......Recurse 3 deeper layers.\n",
      "........Return immediately from depth 4.\n",
      "........Start depth 4.\n",
      "........[{18}, {22}].\n",
      "........Recurse 2 deeper layers.\n",
      "..........Return immediately from depth 5.\n",
      "..........Return immediately from depth 5.\n",
      "........Returning from 2 deeper layers. Total number of subsets: 2.\n",
      "........Product space size: 1.\n",
      "........Elapsed: 0.00 sec\n",
      "........Elapsed: 0.00 sec\n",
      "........End Depth 4.\n",
      "........1 combinations checked.\n",
      "........New subsets formed: 0.\n",
      "\n",
      "......________________________________________________\n",
      "........Start depth 4.\n",
      "........[{16}, {21}].\n",
      "........Recurse 2 deeper layers.\n",
      "..........Return immediately from depth 5.\n",
      "..........Return immediately from depth 5.\n",
      "........Returning from 2 deeper layers. Total number of subsets: 2.\n",
      "........Product space size: 1.\n",
      "........Elapsed: 0.00 sec\n",
      "........Elapsed: 0.00 sec\n",
      "........End Depth 4.\n",
      "........1 combinations checked.\n",
      "........New subsets formed: 0.\n",
      "\n",
      "......________________________________________________\n",
      "......Returning from 3 deeper layers. Total number of subsets: 5.\n",
      "......Product space size: 4.\n",
      "......Elapsed: 0.00 sec\n",
      "......Elapsed: 0.00 sec\n",
      "......End Depth 3.\n",
      "......12 combinations checked.\n",
      "......New subsets formed: 4.\n",
      "\n",
      "....________________________________________________\n",
      "....Returning from 3 deeper layers. Total number of subsets: 11.\n",
      "....Product space size: 9.\n",
      "....Elapsed: 0.00 sec\n",
      "....Elapsed: 0.00 sec\n",
      "....End Depth 2.\n",
      "....28 combinations checked.\n",
      "....New subsets formed: 9.\n",
      "\n",
      "..________________________________________________\n",
      "....Start depth 2.\n",
      "....[{8}, [{35}, [{39}, {31}]]].\n",
      "....Recurse 2 deeper layers.\n",
      "......Return immediately from depth 3.\n",
      "......Start depth 3.\n",
      "......[{35}, [{39}, {31}]].\n",
      "......Recurse 2 deeper layers.\n",
      "........Return immediately from depth 4.\n",
      "........Start depth 4.\n",
      "........[{39}, {31}].\n",
      "........Recurse 2 deeper layers.\n",
      "..........Return immediately from depth 5.\n",
      "..........Return immediately from depth 5.\n",
      "........Returning from 2 deeper layers. Total number of subsets: 2.\n",
      "........Product space size: 1.\n",
      "........Elapsed: 0.00 sec\n",
      "........Elapsed: 0.00 sec\n",
      "........End Depth 4.\n",
      "........1 combinations checked.\n",
      "........New subsets formed: 1.\n",
      "\n",
      "......________________________________________________\n",
      "......Returning from 2 deeper layers. Total number of subsets: 4.\n",
      "......Product space size: 3.\n",
      "......Elapsed: 0.00 sec\n",
      "......Elapsed: 0.00 sec\n",
      "......End Depth 3.\n",
      "......3 combinations checked.\n",
      "......New subsets formed: 0.\n",
      "\n",
      "....________________________________________________\n",
      "....Returning from 2 deeper layers. Total number of subsets: 5.\n",
      "....Product space size: 4.\n",
      "....Elapsed: 0.00 sec\n",
      "....Elapsed: 0.00 sec\n",
      "....End Depth 2.\n",
      "....4 combinations checked.\n",
      "....New subsets formed: 0.\n",
      "\n",
      "..________________________________________________\n",
      "..Returning from 4 deeper layers. Total number of subsets: 31.\n",
      "..Product space size: 500.\n",
      "..Elapsed: 0.00 sec\n",
      "..Elapsed: 0.00 sec\n",
      "..End Depth 1.\n",
      "..1480 combinations checked.\n",
      "..New subsets formed: 233.\n",
      "\n",
      "________________________________________________\n",
      "..Start depth 1.\n",
      "..[{1}, [{25}, [{29}, {30}, {38}]], [{32}, [{34}, [{11}, {23}], {3}, {6}, {27}], [{2}, [{17}, {37}], [{24}, {14}, {12}], {19}, {26}, {28}, {4}]], {36}].\n",
      "..Recurse 4 deeper layers.\n",
      "....Return immediately from depth 2.\n",
      "....Start depth 2.\n",
      "....[{25}, [{29}, {30}, {38}]].\n",
      "....Recurse 2 deeper layers.\n",
      "......Return immediately from depth 3.\n",
      "......Start depth 3.\n",
      "......[{29}, {30}, {38}].\n",
      "......Recurse 3 deeper layers.\n",
      "........Return immediately from depth 4.\n",
      "........Return immediately from depth 4.\n",
      "........Return immediately from depth 4.\n",
      "......Returning from 3 deeper layers. Total number of subsets: 3.\n",
      "......Product space size: 1.\n",
      "......Elapsed: 0.00 sec\n",
      "......Elapsed: 0.00 sec\n",
      "......End Depth 3.\n",
      "......4 combinations checked.\n",
      "......New subsets formed: 2.\n",
      "\n",
      "....________________________________________________\n",
      "....Returning from 2 deeper layers. Total number of subsets: 6.\n",
      "....Product space size: 5.\n",
      "....Elapsed: 0.00 sec\n",
      "....Elapsed: 0.00 sec\n",
      "....End Depth 2.\n",
      "....5 combinations checked.\n",
      "....New subsets formed: 0.\n",
      "\n",
      "..________________________________________________\n",
      "....Start depth 2.\n",
      "....[{32}, [{34}, [{11}, {23}], {3}, {6}, {27}], [{2}, [{17}, {37}], [{24}, {14}, {12}], {19}, {26}, {28}, {4}]].\n",
      "....Recurse 3 deeper layers.\n",
      "......Return immediately from depth 3.\n",
      "......Start depth 3.\n",
      "......[{34}, [{11}, {23}], {3}, {6}, {27}].\n",
      "......Recurse 5 deeper layers.\n",
      "........Return immediately from depth 4.\n",
      "........Start depth 4.\n",
      "........[{11}, {23}].\n",
      "........Recurse 2 deeper layers.\n",
      "..........Return immediately from depth 5.\n",
      "..........Return immediately from depth 5.\n",
      "........Returning from 2 deeper layers. Total number of subsets: 2.\n",
      "........Product space size: 1.\n",
      "........Elapsed: 0.00 sec\n",
      "........Elapsed: 0.00 sec\n",
      "........End Depth 4.\n",
      "........1 combinations checked.\n",
      "........New subsets formed: 0.\n",
      "\n",
      "......________________________________________________\n",
      "........Return immediately from depth 4.\n",
      "........Return immediately from depth 4.\n",
      "........Return immediately from depth 4.\n",
      "......Returning from 5 deeper layers. Total number of subsets: 6.\n",
      "......Product space size: 2.\n",
      "......Elapsed: 0.00 sec\n",
      "......Elapsed: 0.00 sec\n",
      "......End Depth 3.\n",
      "......41 combinations checked.\n",
      "......New subsets formed: 15.\n",
      "\n",
      "....________________________________________________\n",
      "......Start depth 3.\n",
      "......[{2}, [{17}, {37}], [{24}, {14}, {12}], {19}, {26}, {28}, {4}].\n",
      "......Recurse 7 deeper layers.\n",
      "........Return immediately from depth 4.\n",
      "........Start depth 4.\n",
      "........[{17}, {37}].\n",
      "........Recurse 2 deeper layers.\n",
      "..........Return immediately from depth 5.\n",
      "..........Return immediately from depth 5.\n",
      "........Returning from 2 deeper layers. Total number of subsets: 2.\n",
      "........Product space size: 1.\n",
      "........Elapsed: 0.00 sec\n",
      "........Elapsed: 0.00 sec\n",
      "........End Depth 4.\n",
      "........1 combinations checked.\n",
      "........New subsets formed: 1.\n",
      "\n",
      "......________________________________________________\n",
      "........Start depth 4.\n",
      "........[{24}, {14}, {12}].\n",
      "........Recurse 3 deeper layers.\n",
      "..........Return immediately from depth 5.\n",
      "..........Return immediately from depth 5.\n",
      "..........Return immediately from depth 5.\n",
      "........Returning from 3 deeper layers. Total number of subsets: 3.\n",
      "........Product space size: 1.\n",
      "........Elapsed: 0.00 sec\n",
      "........Elapsed: 0.00 sec\n",
      "........End Depth 4.\n",
      "........4 combinations checked.\n",
      "........New subsets formed: 1.\n",
      "\n",
      "......________________________________________________\n",
      "........Return immediately from depth 4.\n",
      "........Return immediately from depth 4.\n",
      "........Return immediately from depth 4.\n",
      "........Return immediately from depth 4.\n",
      "......Returning from 7 deeper layers. Total number of subsets: 12.\n",
      "......Product space size: 12.\n",
      "......Elapsed: 0.00 sec\n",
      "......Elapsed: 0.00 sec\n",
      "......End Depth 3.\n",
      "......627 combinations checked.\n",
      "......New subsets formed: 105.\n",
      "\n",
      "....________________________________________________\n",
      "....Returning from 3 deeper layers. Total number of subsets: 139.\n",
      "....Product space size: 2457.\n",
      "....Elapsed: 0.00 sec\n",
      "....Elapsed: 0.01 sec\n",
      "....End Depth 2.\n",
      "....5052 combinations checked.\n",
      "....New subsets formed: 428.\n",
      "\n",
      "..________________________________________________\n",
      "....Return immediately from depth 2.\n",
      "..Returning from 4 deeper layers. Total number of subsets: 575.\n",
      "..Product space size: 3402.\n",
      "..Elapsed: 0.02 sec\n",
      "..Elapsed: 0.06 sec\n",
      "..End Depth 1.\n",
      "..15328 combinations checked.\n",
      "..New subsets formed: 1894.\n",
      "\n",
      "________________________________________________\n",
      "..Return immediately from depth 1.\n",
      "Returning from 4 deeper layers. Total number of subsets: 2735.\n",
      "Product space size: 651816.\n",
      "Elapsed: 0.09 sec\n",
      "Elapsed: 6.93 sec\n",
      "End Depth 0.\n",
      "2615464 combinations checked.\n",
      "New subsets formed: 61470.\n",
      "\n",
      "________________________________________________\n",
      "Elapsed: 7.02 sec\n",
      "Final result: 2745 subsets, 2638101 combinations checked.\n"
     ]
    }
   ],
   "source": [
    "registered = {str (k): {str (i) for i in v} for k,v in gg.items ()}\n",
    "tic ()\n",
    "subsets, count = recursive_valid_subsets (q, registered=registered)\n",
    "toc ()\n",
    "print ('Final result: {} subsets, {} combinations checked.'.format (len (subsets), count))"
   ]
  },
  {
   "cell_type": "code",
   "execution_count": 72,
   "metadata": {
    "ExecuteTime": {
     "end_time": "2018-07-09T07:22:11.896795Z",
     "start_time": "2018-07-09T07:22:11.887803Z"
    }
   },
   "outputs": [
    {
     "name": "stdout",
     "output_type": "stream",
     "text": [
      "11\n"
     ]
    },
    {
     "data": {
      "text/plain": [
       "['26,37,36,32,14,4,39,15,5,20,1',\n",
       " '21,36,28,32,14,33,5,2,19,1',\n",
       " '0,36,28,14,6,34,2,19,1',\n",
       " '0,26,32,4,12,2,24,1',\n",
       " '36,28,14,6,34,2,19,1',\n",
       " '0,26,32,4,12,2,24',\n",
       " '30,26,36,4,6,38,23',\n",
       " '30,26,36,14,4,6,38',\n",
       " '26,36,14,4,6,38,29']"
      ]
     },
     "execution_count": 72,
     "metadata": {},
     "output_type": "execute_result"
    }
   ],
   "source": [
    "bla = sorted (subsets, key=lambda s: len (s.split (',')))\n",
    "print (len (bla[-1].split (',')))\n",
    "bla[:-10:-1]"
   ]
  },
  {
   "cell_type": "code",
   "execution_count": 15,
   "metadata": {
    "ExecuteTime": {
     "end_time": "2018-07-08T15:47:27.658780Z",
     "start_time": "2018-07-08T15:47:27.589401Z"
    },
    "collapsed": true
   },
   "outputs": [],
   "source": [
    "def render (bfs_tree, depth=0):\n",
    "    text = []\n",
    "    \n",
    "    # Record seen nodes just to double-check\n",
    "    seen = set ()\n",
    "\n",
    "    # Set div orientation and indent level\n",
    "    indent = '  ' * (depth + 2)\n",
    "    if depth % 2:\n",
    "        orientation = 'horizontal'\n",
    "    else:\n",
    "        orientation = 'vertical'\n",
    "\n",
    "    # Render each layer (recursively if needed)\n",
    "    for i, layer in enumerate (bfs_tree):\n",
    "        \n",
    "        # Connected component divider\n",
    "        if not layer:\n",
    "            text.append ('{}<div class=\"break {}\"></div>'.format (indent, orientation))\n",
    "        \n",
    "        # Node\n",
    "        elif isinstance (layer, set):\n",
    "            index, = [x for x in layer]\n",
    "            text.append ('{}<div id=\"node_{}\" class=\"node {}\">{}</div>'.format (indent, index, orientation, index))\n",
    "            seen.update (layer)\n",
    "            \n",
    "        # Layer (must recurse deeper)\n",
    "        else:\n",
    "            rendered, _ = render (layer, depth=depth+1)\n",
    "            text.append ('{}<div class=\"layer {}\">\\n{}\\n{}</div>'.format (indent, orientation, rendered, indent))\n",
    "            seen.update (_)\n",
    "    \n",
    "    # Join rendered layers\n",
    "    text = '\\n'.join (text)\n",
    "    \n",
    "    # For outermost level, wrap in container, apply stylesheet\n",
    "    if depth == 0:\n",
    "        header = '''\\\n",
    "<!DOCTYPE html>\n",
    "<html>\n",
    "<head>\n",
    "  <title>BFS Decomposition Graph Visualization</title>\n",
    "</head>\n",
    "<body>\\\n",
    "'''\n",
    "        canvas = '\\t<canvas></canvas>'\n",
    "        container = '\\t<div class=\"container horizontal\">\\n{}\\n\\t</div>'\n",
    "        style = '\\t<link rel=\"stylesheet\" type=\"text/css\" href=\"bfs_style.css\">'\n",
    "        script = '\\t<script type=\"text/javascript\" src=\"draw_edges.js\"></script>'\n",
    "        footer = '''\\\n",
    "</body>\n",
    "</html>\\\n",
    "'''\n",
    "        text = '\\n'.join ([header, canvas, container, style, script, footer, '']).format (text)\n",
    "    \n",
    "    return text, seen"
   ]
  },
  {
   "cell_type": "code",
   "execution_count": 16,
   "metadata": {
    "ExecuteTime": {
     "end_time": "2018-07-08T15:47:28.647593Z",
     "start_time": "2018-07-08T15:47:28.611591Z"
    },
    "collapsed": true
   },
   "outputs": [],
   "source": [
    "def head (filename, lines=5, trail=True):\n",
    "    if lines is None or lines < 0:\n",
    "        from itertools import count\n",
    "        lines = count ()\n",
    "    else:\n",
    "        lines = range (lines)\n",
    "        \n",
    "    with open (filename, 'r') as f:\n",
    "        for _ in lines:\n",
    "            text = f.readline ()\n",
    "            \n",
    "            if not text:\n",
    "                trail = False\n",
    "                break\n",
    "                \n",
    "            print (text, end='')\n",
    "            \n",
    "    if trail:\n",
    "        print ('...')"
   ]
  },
  {
   "cell_type": "code",
   "execution_count": 17,
   "metadata": {
    "ExecuteTime": {
     "end_time": "2018-07-08T15:47:33.663341Z",
     "start_time": "2018-07-08T15:47:33.647341Z"
    },
    "scrolled": false
   },
   "outputs": [
    {
     "name": "stdout",
     "output_type": "stream",
     "text": [
      "{0, 1, 2, 3, 4, 5, 6, 7, 8, 9, 10, 11, 12, 13, 14, 15, 16, 17, 18, 19, 20, 21, 22, 23, 24, 25, 26, 27, 28, 29, 30, 31, 32, 33, 34, 35, 36, 37, 38, 39}\n",
      "\n",
      "<!DOCTYPE html>\n",
      "<html>\n",
      "<head>\n",
      "  <title>BFS Decomposition Graph Visualization</title>\n",
      "</head>\n",
      "<body>\n",
      "\t<canvas></canvas>\n",
      "\t<div class=\"container horizontal\">\n",
      "    <div id=\"node_0\" class=\"node vertical\">0</div>\n",
      "    <div class=\"layer vertical\">\n",
      "      <div id=\"node_33\" class=\"node horizontal\">33</div>\n",
      "      <div class=\"layer horizontal\">\n",
      "        <div id=\"node_9\" class=\"node vertical\">9</div>\n",
      "        <div id=\"node_15\" class=\"node vertical\">15</div>\n",
      "        <div class=\"break vertical\"></div>\n",
      "...\n"
     ]
    }
   ],
   "source": [
    "text, seen = render (p)\n",
    "print (seen)\n",
    "print ()\n",
    "\n",
    "with open ('output.html', 'wt') as f:\n",
    "    f.write (text)\n",
    "    \n",
    "head ('output.html', 15)"
   ]
  },
  {
   "cell_type": "code",
   "execution_count": 18,
   "metadata": {
    "ExecuteTime": {
     "end_time": "2018-07-08T15:47:39.562144Z",
     "start_time": "2018-07-08T15:47:39.514093Z"
    }
   },
   "outputs": [
    {
     "name": "stdout",
     "output_type": "stream",
     "text": [
      "{\n",
      "  \"0\": [\n",
      "    5,\n",
      "    8,\n",
      "    9,\n",
      "    10,\n",
      "    13,\n",
      "    15,\n",
      "    16,\n",
      "    18,\n",
      "    20,\n",
      "    21,\n",
      "    22,\n",
      "    31,\n",
      "    33,\n",
      "    35,\n",
      "    39\n",
      "  ],\n",
      "  \"1\": [\n",
      "    22,\n",
      "...\n"
     ]
    }
   ],
   "source": [
    "import json\n",
    "with open ('adjacencies.json', 'wt') as f:\n",
    "    json.dump ({i: sorted (node for node in g[i] if node > i) for i in g}, f, indent=2, sort_keys=True)\n",
    "\n",
    "head ('adjacencies.json', 20)"
   ]
  },
  {
   "cell_type": "code",
   "execution_count": null,
   "metadata": {
    "collapsed": true
   },
   "outputs": [],
   "source": []
  }
 ],
 "metadata": {
  "kernelspec": {
   "display_name": "Python 3",
   "language": "python",
   "name": "python3"
  },
  "language_info": {
   "codemirror_mode": {
    "name": "ipython",
    "version": 3
   },
   "file_extension": ".py",
   "mimetype": "text/x-python",
   "name": "python",
   "nbconvert_exporter": "python",
   "pygments_lexer": "ipython3",
   "version": "3.6.2"
  }
 },
 "nbformat": 4,
 "nbformat_minor": 2
}
